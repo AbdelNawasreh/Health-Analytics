{
 "cells": [
  {
   "cell_type": "code",
   "execution_count": 19,
   "id": "e1280355",
   "metadata": {},
   "outputs": [],
   "source": [
    "import pandas as pd"
   ]
  },
  {
   "cell_type": "code",
   "execution_count": 53,
   "id": "2a5a2535",
   "metadata": {},
   "outputs": [],
   "source": [
    "import numpy as np\n",
    "from sklearn import datasets\n",
    "from sklearn.pipeline import Pipeline\n",
    "from sklearn.model_selection import train_test_split\n",
    "from sklearn.preprocessing import StandardScaler\n",
    "from sklearn.svm import LinearSVC\n",
    "from sklearn.metrics import accuracy_score\n",
    "from sklearn.metrics import classification_report,confusion_matrix\n",
    "from sklearn.metrics import mean_squared_error"
   ]
  },
  {
   "cell_type": "code",
   "execution_count": 49,
   "id": "b93f9d66",
   "metadata": {},
   "outputs": [],
   "source": [
    "import numpy as np # linear algebra\n",
    "import pandas as pd # data processing\n",
    "from sklearn import linear_model #linear model from sklearn\n",
    "from sklearn.metrics import r2_score # evaluation\n",
    "import seaborn as sns # plotting\n",
    "import matplotlib.pyplot as plt\n",
    "from sklearn.linear_model import LinearRegression"
   ]
  },
  {
   "cell_type": "markdown",
   "id": "68c7bd1f",
   "metadata": {},
   "source": [
    "#  Load data csv file"
   ]
  },
  {
   "cell_type": "code",
   "execution_count": 21,
   "id": "4f36df59",
   "metadata": {},
   "outputs": [
    {
     "data": {
      "text/html": [
       "<div>\n",
       "<style scoped>\n",
       "    .dataframe tbody tr th:only-of-type {\n",
       "        vertical-align: middle;\n",
       "    }\n",
       "\n",
       "    .dataframe tbody tr th {\n",
       "        vertical-align: top;\n",
       "    }\n",
       "\n",
       "    .dataframe thead th {\n",
       "        text-align: right;\n",
       "    }\n",
       "</style>\n",
       "<table border=\"1\" class=\"dataframe\">\n",
       "  <thead>\n",
       "    <tr style=\"text-align: right;\">\n",
       "      <th></th>\n",
       "      <th>REF_DATE</th>\n",
       "      <th>GEO</th>\n",
       "      <th>DGUID</th>\n",
       "      <th>Sex</th>\n",
       "      <th>Primary types of cancer (ICD-O-3)</th>\n",
       "      <th>Stage at diagnosis</th>\n",
       "      <th>Characteristics</th>\n",
       "      <th>UOM</th>\n",
       "      <th>UOM_ID</th>\n",
       "      <th>SCALAR_FACTOR</th>\n",
       "      <th>SCALAR_ID</th>\n",
       "      <th>VECTOR</th>\n",
       "      <th>COORDINATE</th>\n",
       "      <th>VALUE</th>\n",
       "      <th>STATUS</th>\n",
       "      <th>SYMBOL</th>\n",
       "      <th>TERMINATED</th>\n",
       "      <th>DECIMALS</th>\n",
       "    </tr>\n",
       "  </thead>\n",
       "  <tbody>\n",
       "    <tr>\n",
       "      <th>0</th>\n",
       "      <td>2010</td>\n",
       "      <td>Canada excluding Quebec</td>\n",
       "      <td>NaN</td>\n",
       "      <td>Both sexes</td>\n",
       "      <td>Colon and rectum [C18.0-C18.9, C19.9, C20.9, C...</td>\n",
       "      <td>All stages combined (Collaborative Stage)</td>\n",
       "      <td>Total number of cancer cases</td>\n",
       "      <td>Number</td>\n",
       "      <td>223</td>\n",
       "      <td>units</td>\n",
       "      <td>0</td>\n",
       "      <td>v1139465853</td>\n",
       "      <td>15.1.1.1.1</td>\n",
       "      <td>16165.0</td>\n",
       "      <td>NaN</td>\n",
       "      <td>NaN</td>\n",
       "      <td>NaN</td>\n",
       "      <td>0</td>\n",
       "    </tr>\n",
       "    <tr>\n",
       "      <th>1</th>\n",
       "      <td>2010</td>\n",
       "      <td>Canada excluding Quebec</td>\n",
       "      <td>NaN</td>\n",
       "      <td>Both sexes</td>\n",
       "      <td>Colon and rectum [C18.0-C18.9, C19.9, C20.9, C...</td>\n",
       "      <td>All stages combined (Collaborative Stage)</td>\n",
       "      <td>Cancer incidence rate</td>\n",
       "      <td>Rate per 100,000 population</td>\n",
       "      <td>265</td>\n",
       "      <td>units</td>\n",
       "      <td>0</td>\n",
       "      <td>v1139465854</td>\n",
       "      <td>15.1.1.1.2</td>\n",
       "      <td>64.2</td>\n",
       "      <td>NaN</td>\n",
       "      <td>NaN</td>\n",
       "      <td>NaN</td>\n",
       "      <td>1</td>\n",
       "    </tr>\n",
       "    <tr>\n",
       "      <th>2</th>\n",
       "      <td>2010</td>\n",
       "      <td>Canada excluding Quebec</td>\n",
       "      <td>NaN</td>\n",
       "      <td>Both sexes</td>\n",
       "      <td>Colon and rectum [C18.0-C18.9, C19.9, C20.9, C...</td>\n",
       "      <td>All stages combined (Collaborative Stage)</td>\n",
       "      <td>Low 95% confidence interval, cancer incidence ...</td>\n",
       "      <td>Rate per 100,000 population</td>\n",
       "      <td>265</td>\n",
       "      <td>units</td>\n",
       "      <td>0</td>\n",
       "      <td>v1139465855</td>\n",
       "      <td>15.1.1.1.3</td>\n",
       "      <td>63.2</td>\n",
       "      <td>NaN</td>\n",
       "      <td>NaN</td>\n",
       "      <td>NaN</td>\n",
       "      <td>1</td>\n",
       "    </tr>\n",
       "    <tr>\n",
       "      <th>3</th>\n",
       "      <td>2010</td>\n",
       "      <td>Canada excluding Quebec</td>\n",
       "      <td>NaN</td>\n",
       "      <td>Both sexes</td>\n",
       "      <td>Colon and rectum [C18.0-C18.9, C19.9, C20.9, C...</td>\n",
       "      <td>All stages combined (Collaborative Stage)</td>\n",
       "      <td>High 95% confidence interval, cancer incidence...</td>\n",
       "      <td>Rate per 100,000 population</td>\n",
       "      <td>265</td>\n",
       "      <td>units</td>\n",
       "      <td>0</td>\n",
       "      <td>v1139465856</td>\n",
       "      <td>15.1.1.1.4</td>\n",
       "      <td>65.1</td>\n",
       "      <td>NaN</td>\n",
       "      <td>NaN</td>\n",
       "      <td>NaN</td>\n",
       "      <td>1</td>\n",
       "    </tr>\n",
       "    <tr>\n",
       "      <th>4</th>\n",
       "      <td>2010</td>\n",
       "      <td>Canada excluding Quebec</td>\n",
       "      <td>NaN</td>\n",
       "      <td>Both sexes</td>\n",
       "      <td>Colon and rectum [C18.0-C18.9, C19.9, C20.9, C...</td>\n",
       "      <td>Stage 0 (Collaborative Stage)</td>\n",
       "      <td>Total number of cancer cases</td>\n",
       "      <td>Number</td>\n",
       "      <td>223</td>\n",
       "      <td>units</td>\n",
       "      <td>0</td>\n",
       "      <td>v1139465857</td>\n",
       "      <td>15.1.1.2.1</td>\n",
       "      <td>135.0</td>\n",
       "      <td>NaN</td>\n",
       "      <td>NaN</td>\n",
       "      <td>NaN</td>\n",
       "      <td>0</td>\n",
       "    </tr>\n",
       "    <tr>\n",
       "      <th>...</th>\n",
       "      <td>...</td>\n",
       "      <td>...</td>\n",
       "      <td>...</td>\n",
       "      <td>...</td>\n",
       "      <td>...</td>\n",
       "      <td>...</td>\n",
       "      <td>...</td>\n",
       "      <td>...</td>\n",
       "      <td>...</td>\n",
       "      <td>...</td>\n",
       "      <td>...</td>\n",
       "      <td>...</td>\n",
       "      <td>...</td>\n",
       "      <td>...</td>\n",
       "      <td>...</td>\n",
       "      <td>...</td>\n",
       "      <td>...</td>\n",
       "      <td>...</td>\n",
       "    </tr>\n",
       "    <tr>\n",
       "      <th>59899</th>\n",
       "      <td>2017</td>\n",
       "      <td>Nunavut</td>\n",
       "      <td>2016A000262</td>\n",
       "      <td>Females</td>\n",
       "      <td>Cervix uteri [C53.0-C53.9]</td>\n",
       "      <td>Stage unknown (Collaborative Stage)</td>\n",
       "      <td>High 95% confidence interval, cancer incidence...</td>\n",
       "      <td>Rate per 100,000 population</td>\n",
       "      <td>265</td>\n",
       "      <td>units</td>\n",
       "      <td>0</td>\n",
       "      <td>v1139465760</td>\n",
       "      <td>14.3.6.7.4</td>\n",
       "      <td>NaN</td>\n",
       "      <td>x</td>\n",
       "      <td>NaN</td>\n",
       "      <td>NaN</td>\n",
       "      <td>1</td>\n",
       "    </tr>\n",
       "    <tr>\n",
       "      <th>59900</th>\n",
       "      <td>2017</td>\n",
       "      <td>Nunavut</td>\n",
       "      <td>2016A000262</td>\n",
       "      <td>Females</td>\n",
       "      <td>Cervix uteri [C53.0-C53.9]</td>\n",
       "      <td>Stage not available (Collaborative Stage)</td>\n",
       "      <td>Total number of cancer cases</td>\n",
       "      <td>Number</td>\n",
       "      <td>223</td>\n",
       "      <td>units</td>\n",
       "      <td>0</td>\n",
       "      <td>v1139465761</td>\n",
       "      <td>14.3.6.8.1</td>\n",
       "      <td>NaN</td>\n",
       "      <td>x</td>\n",
       "      <td>NaN</td>\n",
       "      <td>NaN</td>\n",
       "      <td>0</td>\n",
       "    </tr>\n",
       "    <tr>\n",
       "      <th>59901</th>\n",
       "      <td>2017</td>\n",
       "      <td>Nunavut</td>\n",
       "      <td>2016A000262</td>\n",
       "      <td>Females</td>\n",
       "      <td>Cervix uteri [C53.0-C53.9]</td>\n",
       "      <td>Stage not available (Collaborative Stage)</td>\n",
       "      <td>Cancer incidence rate</td>\n",
       "      <td>Rate per 100,000 population</td>\n",
       "      <td>265</td>\n",
       "      <td>units</td>\n",
       "      <td>0</td>\n",
       "      <td>v1139465762</td>\n",
       "      <td>14.3.6.8.2</td>\n",
       "      <td>NaN</td>\n",
       "      <td>x</td>\n",
       "      <td>NaN</td>\n",
       "      <td>NaN</td>\n",
       "      <td>1</td>\n",
       "    </tr>\n",
       "    <tr>\n",
       "      <th>59902</th>\n",
       "      <td>2017</td>\n",
       "      <td>Nunavut</td>\n",
       "      <td>2016A000262</td>\n",
       "      <td>Females</td>\n",
       "      <td>Cervix uteri [C53.0-C53.9]</td>\n",
       "      <td>Stage not available (Collaborative Stage)</td>\n",
       "      <td>Low 95% confidence interval, cancer incidence ...</td>\n",
       "      <td>Rate per 100,000 population</td>\n",
       "      <td>265</td>\n",
       "      <td>units</td>\n",
       "      <td>0</td>\n",
       "      <td>v1139465763</td>\n",
       "      <td>14.3.6.8.3</td>\n",
       "      <td>NaN</td>\n",
       "      <td>x</td>\n",
       "      <td>NaN</td>\n",
       "      <td>NaN</td>\n",
       "      <td>1</td>\n",
       "    </tr>\n",
       "    <tr>\n",
       "      <th>59903</th>\n",
       "      <td>2017</td>\n",
       "      <td>Nunavut</td>\n",
       "      <td>2016A000262</td>\n",
       "      <td>Females</td>\n",
       "      <td>Cervix uteri [C53.0-C53.9]</td>\n",
       "      <td>Stage not available (Collaborative Stage)</td>\n",
       "      <td>High 95% confidence interval, cancer incidence...</td>\n",
       "      <td>Rate per 100,000 population</td>\n",
       "      <td>265</td>\n",
       "      <td>units</td>\n",
       "      <td>0</td>\n",
       "      <td>v1139465764</td>\n",
       "      <td>14.3.6.8.4</td>\n",
       "      <td>NaN</td>\n",
       "      <td>x</td>\n",
       "      <td>NaN</td>\n",
       "      <td>NaN</td>\n",
       "      <td>1</td>\n",
       "    </tr>\n",
       "  </tbody>\n",
       "</table>\n",
       "<p>59904 rows × 18 columns</p>\n",
       "</div>"
      ],
      "text/plain": [
       "       REF_DATE                      GEO        DGUID         Sex  \\\n",
       "0          2010  Canada excluding Quebec          NaN  Both sexes   \n",
       "1          2010  Canada excluding Quebec          NaN  Both sexes   \n",
       "2          2010  Canada excluding Quebec          NaN  Both sexes   \n",
       "3          2010  Canada excluding Quebec          NaN  Both sexes   \n",
       "4          2010  Canada excluding Quebec          NaN  Both sexes   \n",
       "...         ...                      ...          ...         ...   \n",
       "59899      2017                  Nunavut  2016A000262     Females   \n",
       "59900      2017                  Nunavut  2016A000262     Females   \n",
       "59901      2017                  Nunavut  2016A000262     Females   \n",
       "59902      2017                  Nunavut  2016A000262     Females   \n",
       "59903      2017                  Nunavut  2016A000262     Females   \n",
       "\n",
       "                       Primary types of cancer (ICD-O-3)  \\\n",
       "0      Colon and rectum [C18.0-C18.9, C19.9, C20.9, C...   \n",
       "1      Colon and rectum [C18.0-C18.9, C19.9, C20.9, C...   \n",
       "2      Colon and rectum [C18.0-C18.9, C19.9, C20.9, C...   \n",
       "3      Colon and rectum [C18.0-C18.9, C19.9, C20.9, C...   \n",
       "4      Colon and rectum [C18.0-C18.9, C19.9, C20.9, C...   \n",
       "...                                                  ...   \n",
       "59899                         Cervix uteri [C53.0-C53.9]   \n",
       "59900                         Cervix uteri [C53.0-C53.9]   \n",
       "59901                         Cervix uteri [C53.0-C53.9]   \n",
       "59902                         Cervix uteri [C53.0-C53.9]   \n",
       "59903                         Cervix uteri [C53.0-C53.9]   \n",
       "\n",
       "                              Stage at diagnosis  \\\n",
       "0      All stages combined (Collaborative Stage)   \n",
       "1      All stages combined (Collaborative Stage)   \n",
       "2      All stages combined (Collaborative Stage)   \n",
       "3      All stages combined (Collaborative Stage)   \n",
       "4                  Stage 0 (Collaborative Stage)   \n",
       "...                                          ...   \n",
       "59899        Stage unknown (Collaborative Stage)   \n",
       "59900  Stage not available (Collaborative Stage)   \n",
       "59901  Stage not available (Collaborative Stage)   \n",
       "59902  Stage not available (Collaborative Stage)   \n",
       "59903  Stage not available (Collaborative Stage)   \n",
       "\n",
       "                                         Characteristics  \\\n",
       "0                           Total number of cancer cases   \n",
       "1                                  Cancer incidence rate   \n",
       "2      Low 95% confidence interval, cancer incidence ...   \n",
       "3      High 95% confidence interval, cancer incidence...   \n",
       "4                           Total number of cancer cases   \n",
       "...                                                  ...   \n",
       "59899  High 95% confidence interval, cancer incidence...   \n",
       "59900                       Total number of cancer cases   \n",
       "59901                              Cancer incidence rate   \n",
       "59902  Low 95% confidence interval, cancer incidence ...   \n",
       "59903  High 95% confidence interval, cancer incidence...   \n",
       "\n",
       "                               UOM  UOM_ID SCALAR_FACTOR  SCALAR_ID  \\\n",
       "0                           Number     223         units          0   \n",
       "1      Rate per 100,000 population     265         units          0   \n",
       "2      Rate per 100,000 population     265         units          0   \n",
       "3      Rate per 100,000 population     265         units          0   \n",
       "4                           Number     223         units          0   \n",
       "...                            ...     ...           ...        ...   \n",
       "59899  Rate per 100,000 population     265         units          0   \n",
       "59900                       Number     223         units          0   \n",
       "59901  Rate per 100,000 population     265         units          0   \n",
       "59902  Rate per 100,000 population     265         units          0   \n",
       "59903  Rate per 100,000 population     265         units          0   \n",
       "\n",
       "            VECTOR  COORDINATE    VALUE STATUS  SYMBOL  TERMINATED  DECIMALS  \n",
       "0      v1139465853  15.1.1.1.1  16165.0    NaN     NaN         NaN         0  \n",
       "1      v1139465854  15.1.1.1.2     64.2    NaN     NaN         NaN         1  \n",
       "2      v1139465855  15.1.1.1.3     63.2    NaN     NaN         NaN         1  \n",
       "3      v1139465856  15.1.1.1.4     65.1    NaN     NaN         NaN         1  \n",
       "4      v1139465857  15.1.1.2.1    135.0    NaN     NaN         NaN         0  \n",
       "...            ...         ...      ...    ...     ...         ...       ...  \n",
       "59899  v1139465760  14.3.6.7.4      NaN      x     NaN         NaN         1  \n",
       "59900  v1139465761  14.3.6.8.1      NaN      x     NaN         NaN         0  \n",
       "59901  v1139465762  14.3.6.8.2      NaN      x     NaN         NaN         1  \n",
       "59902  v1139465763  14.3.6.8.3      NaN      x     NaN         NaN         1  \n",
       "59903  v1139465764  14.3.6.8.4      NaN      x     NaN         NaN         1  \n",
       "\n",
       "[59904 rows x 18 columns]"
      ]
     },
     "execution_count": 21,
     "metadata": {},
     "output_type": "execute_result"
    }
   ],
   "source": [
    "# load data csv file\n",
    "path = '13100762.csv'\n",
    "df = pd.read_csv(path)\n",
    "df"
   ]
  },
  {
   "cell_type": "markdown",
   "id": "b03d0d70",
   "metadata": {},
   "source": [
    "# Drop unnecessary columns "
   ]
  },
  {
   "cell_type": "code",
   "execution_count": 22,
   "id": "b5783f28",
   "metadata": {},
   "outputs": [],
   "source": [
    "#Drop unnecessary columns \n",
    "df = df.drop(columns=['DGUID', 'Stage at diagnosis', 'Characteristics','UOM','UOM_ID','SCALAR_FACTOR','SCALAR_ID','VECTOR','COORDINATE','STATUS','SYMBOL','TERMINATED','DECIMALS'])\n"
   ]
  },
  {
   "cell_type": "code",
   "execution_count": 23,
   "id": "46afa252",
   "metadata": {},
   "outputs": [
    {
     "data": {
      "text/html": [
       "<div>\n",
       "<style scoped>\n",
       "    .dataframe tbody tr th:only-of-type {\n",
       "        vertical-align: middle;\n",
       "    }\n",
       "\n",
       "    .dataframe tbody tr th {\n",
       "        vertical-align: top;\n",
       "    }\n",
       "\n",
       "    .dataframe thead th {\n",
       "        text-align: right;\n",
       "    }\n",
       "</style>\n",
       "<table border=\"1\" class=\"dataframe\">\n",
       "  <thead>\n",
       "    <tr style=\"text-align: right;\">\n",
       "      <th></th>\n",
       "      <th>REF_DATE</th>\n",
       "      <th>GEO</th>\n",
       "      <th>Sex</th>\n",
       "      <th>Primary types of cancer (ICD-O-3)</th>\n",
       "      <th>VALUE</th>\n",
       "    </tr>\n",
       "  </thead>\n",
       "  <tbody>\n",
       "    <tr>\n",
       "      <th>0</th>\n",
       "      <td>2010</td>\n",
       "      <td>Canada excluding Quebec</td>\n",
       "      <td>Both sexes</td>\n",
       "      <td>Colon and rectum [C18.0-C18.9, C19.9, C20.9, C...</td>\n",
       "      <td>16165.0</td>\n",
       "    </tr>\n",
       "    <tr>\n",
       "      <th>1</th>\n",
       "      <td>2010</td>\n",
       "      <td>Canada excluding Quebec</td>\n",
       "      <td>Both sexes</td>\n",
       "      <td>Colon and rectum [C18.0-C18.9, C19.9, C20.9, C...</td>\n",
       "      <td>64.2</td>\n",
       "    </tr>\n",
       "    <tr>\n",
       "      <th>2</th>\n",
       "      <td>2010</td>\n",
       "      <td>Canada excluding Quebec</td>\n",
       "      <td>Both sexes</td>\n",
       "      <td>Colon and rectum [C18.0-C18.9, C19.9, C20.9, C...</td>\n",
       "      <td>63.2</td>\n",
       "    </tr>\n",
       "    <tr>\n",
       "      <th>3</th>\n",
       "      <td>2010</td>\n",
       "      <td>Canada excluding Quebec</td>\n",
       "      <td>Both sexes</td>\n",
       "      <td>Colon and rectum [C18.0-C18.9, C19.9, C20.9, C...</td>\n",
       "      <td>65.1</td>\n",
       "    </tr>\n",
       "    <tr>\n",
       "      <th>4</th>\n",
       "      <td>2010</td>\n",
       "      <td>Canada excluding Quebec</td>\n",
       "      <td>Both sexes</td>\n",
       "      <td>Colon and rectum [C18.0-C18.9, C19.9, C20.9, C...</td>\n",
       "      <td>135.0</td>\n",
       "    </tr>\n",
       "    <tr>\n",
       "      <th>...</th>\n",
       "      <td>...</td>\n",
       "      <td>...</td>\n",
       "      <td>...</td>\n",
       "      <td>...</td>\n",
       "      <td>...</td>\n",
       "    </tr>\n",
       "    <tr>\n",
       "      <th>59899</th>\n",
       "      <td>2017</td>\n",
       "      <td>Nunavut</td>\n",
       "      <td>Females</td>\n",
       "      <td>Cervix uteri [C53.0-C53.9]</td>\n",
       "      <td>NaN</td>\n",
       "    </tr>\n",
       "    <tr>\n",
       "      <th>59900</th>\n",
       "      <td>2017</td>\n",
       "      <td>Nunavut</td>\n",
       "      <td>Females</td>\n",
       "      <td>Cervix uteri [C53.0-C53.9]</td>\n",
       "      <td>NaN</td>\n",
       "    </tr>\n",
       "    <tr>\n",
       "      <th>59901</th>\n",
       "      <td>2017</td>\n",
       "      <td>Nunavut</td>\n",
       "      <td>Females</td>\n",
       "      <td>Cervix uteri [C53.0-C53.9]</td>\n",
       "      <td>NaN</td>\n",
       "    </tr>\n",
       "    <tr>\n",
       "      <th>59902</th>\n",
       "      <td>2017</td>\n",
       "      <td>Nunavut</td>\n",
       "      <td>Females</td>\n",
       "      <td>Cervix uteri [C53.0-C53.9]</td>\n",
       "      <td>NaN</td>\n",
       "    </tr>\n",
       "    <tr>\n",
       "      <th>59903</th>\n",
       "      <td>2017</td>\n",
       "      <td>Nunavut</td>\n",
       "      <td>Females</td>\n",
       "      <td>Cervix uteri [C53.0-C53.9]</td>\n",
       "      <td>NaN</td>\n",
       "    </tr>\n",
       "  </tbody>\n",
       "</table>\n",
       "<p>59904 rows × 5 columns</p>\n",
       "</div>"
      ],
      "text/plain": [
       "       REF_DATE                      GEO         Sex  \\\n",
       "0          2010  Canada excluding Quebec  Both sexes   \n",
       "1          2010  Canada excluding Quebec  Both sexes   \n",
       "2          2010  Canada excluding Quebec  Both sexes   \n",
       "3          2010  Canada excluding Quebec  Both sexes   \n",
       "4          2010  Canada excluding Quebec  Both sexes   \n",
       "...         ...                      ...         ...   \n",
       "59899      2017                  Nunavut     Females   \n",
       "59900      2017                  Nunavut     Females   \n",
       "59901      2017                  Nunavut     Females   \n",
       "59902      2017                  Nunavut     Females   \n",
       "59903      2017                  Nunavut     Females   \n",
       "\n",
       "                       Primary types of cancer (ICD-O-3)    VALUE  \n",
       "0      Colon and rectum [C18.0-C18.9, C19.9, C20.9, C...  16165.0  \n",
       "1      Colon and rectum [C18.0-C18.9, C19.9, C20.9, C...     64.2  \n",
       "2      Colon and rectum [C18.0-C18.9, C19.9, C20.9, C...     63.2  \n",
       "3      Colon and rectum [C18.0-C18.9, C19.9, C20.9, C...     65.1  \n",
       "4      Colon and rectum [C18.0-C18.9, C19.9, C20.9, C...    135.0  \n",
       "...                                                  ...      ...  \n",
       "59899                         Cervix uteri [C53.0-C53.9]      NaN  \n",
       "59900                         Cervix uteri [C53.0-C53.9]      NaN  \n",
       "59901                         Cervix uteri [C53.0-C53.9]      NaN  \n",
       "59902                         Cervix uteri [C53.0-C53.9]      NaN  \n",
       "59903                         Cervix uteri [C53.0-C53.9]      NaN  \n",
       "\n",
       "[59904 rows x 5 columns]"
      ]
     },
     "execution_count": 23,
     "metadata": {},
     "output_type": "execute_result"
    }
   ],
   "source": [
    "df"
   ]
  },
  {
   "cell_type": "code",
   "execution_count": 26,
   "id": "083f6b2f",
   "metadata": {},
   "outputs": [
    {
     "data": {
      "text/html": [
       "<div>\n",
       "<style scoped>\n",
       "    .dataframe tbody tr th:only-of-type {\n",
       "        vertical-align: middle;\n",
       "    }\n",
       "\n",
       "    .dataframe tbody tr th {\n",
       "        vertical-align: top;\n",
       "    }\n",
       "\n",
       "    .dataframe thead th {\n",
       "        text-align: right;\n",
       "    }\n",
       "</style>\n",
       "<table border=\"1\" class=\"dataframe\">\n",
       "  <thead>\n",
       "    <tr style=\"text-align: right;\">\n",
       "      <th></th>\n",
       "      <th>Year</th>\n",
       "      <th>Province</th>\n",
       "      <th>Sex</th>\n",
       "      <th>Types of cancer</th>\n",
       "      <th>Number of patients</th>\n",
       "    </tr>\n",
       "  </thead>\n",
       "  <tbody>\n",
       "    <tr>\n",
       "      <th>0</th>\n",
       "      <td>2010</td>\n",
       "      <td>Canada excluding Quebec</td>\n",
       "      <td>Both sexes</td>\n",
       "      <td>Colon and rectum [C18.0-C18.9, C19.9, C20.9, C...</td>\n",
       "      <td>16165.0</td>\n",
       "    </tr>\n",
       "    <tr>\n",
       "      <th>1</th>\n",
       "      <td>2010</td>\n",
       "      <td>Canada excluding Quebec</td>\n",
       "      <td>Both sexes</td>\n",
       "      <td>Colon and rectum [C18.0-C18.9, C19.9, C20.9, C...</td>\n",
       "      <td>64.2</td>\n",
       "    </tr>\n",
       "    <tr>\n",
       "      <th>2</th>\n",
       "      <td>2010</td>\n",
       "      <td>Canada excluding Quebec</td>\n",
       "      <td>Both sexes</td>\n",
       "      <td>Colon and rectum [C18.0-C18.9, C19.9, C20.9, C...</td>\n",
       "      <td>63.2</td>\n",
       "    </tr>\n",
       "    <tr>\n",
       "      <th>3</th>\n",
       "      <td>2010</td>\n",
       "      <td>Canada excluding Quebec</td>\n",
       "      <td>Both sexes</td>\n",
       "      <td>Colon and rectum [C18.0-C18.9, C19.9, C20.9, C...</td>\n",
       "      <td>65.1</td>\n",
       "    </tr>\n",
       "    <tr>\n",
       "      <th>4</th>\n",
       "      <td>2010</td>\n",
       "      <td>Canada excluding Quebec</td>\n",
       "      <td>Both sexes</td>\n",
       "      <td>Colon and rectum [C18.0-C18.9, C19.9, C20.9, C...</td>\n",
       "      <td>135.0</td>\n",
       "    </tr>\n",
       "    <tr>\n",
       "      <th>...</th>\n",
       "      <td>...</td>\n",
       "      <td>...</td>\n",
       "      <td>...</td>\n",
       "      <td>...</td>\n",
       "      <td>...</td>\n",
       "    </tr>\n",
       "    <tr>\n",
       "      <th>59899</th>\n",
       "      <td>2017</td>\n",
       "      <td>Nunavut</td>\n",
       "      <td>Females</td>\n",
       "      <td>Cervix uteri [C53.0-C53.9]</td>\n",
       "      <td>NaN</td>\n",
       "    </tr>\n",
       "    <tr>\n",
       "      <th>59900</th>\n",
       "      <td>2017</td>\n",
       "      <td>Nunavut</td>\n",
       "      <td>Females</td>\n",
       "      <td>Cervix uteri [C53.0-C53.9]</td>\n",
       "      <td>NaN</td>\n",
       "    </tr>\n",
       "    <tr>\n",
       "      <th>59901</th>\n",
       "      <td>2017</td>\n",
       "      <td>Nunavut</td>\n",
       "      <td>Females</td>\n",
       "      <td>Cervix uteri [C53.0-C53.9]</td>\n",
       "      <td>NaN</td>\n",
       "    </tr>\n",
       "    <tr>\n",
       "      <th>59902</th>\n",
       "      <td>2017</td>\n",
       "      <td>Nunavut</td>\n",
       "      <td>Females</td>\n",
       "      <td>Cervix uteri [C53.0-C53.9]</td>\n",
       "      <td>NaN</td>\n",
       "    </tr>\n",
       "    <tr>\n",
       "      <th>59903</th>\n",
       "      <td>2017</td>\n",
       "      <td>Nunavut</td>\n",
       "      <td>Females</td>\n",
       "      <td>Cervix uteri [C53.0-C53.9]</td>\n",
       "      <td>NaN</td>\n",
       "    </tr>\n",
       "  </tbody>\n",
       "</table>\n",
       "<p>59904 rows × 5 columns</p>\n",
       "</div>"
      ],
      "text/plain": [
       "       Year                 Province         Sex  \\\n",
       "0      2010  Canada excluding Quebec  Both sexes   \n",
       "1      2010  Canada excluding Quebec  Both sexes   \n",
       "2      2010  Canada excluding Quebec  Both sexes   \n",
       "3      2010  Canada excluding Quebec  Both sexes   \n",
       "4      2010  Canada excluding Quebec  Both sexes   \n",
       "...     ...                      ...         ...   \n",
       "59899  2017                  Nunavut     Females   \n",
       "59900  2017                  Nunavut     Females   \n",
       "59901  2017                  Nunavut     Females   \n",
       "59902  2017                  Nunavut     Females   \n",
       "59903  2017                  Nunavut     Females   \n",
       "\n",
       "                                         Types of cancer  Number of patients  \n",
       "0      Colon and rectum [C18.0-C18.9, C19.9, C20.9, C...             16165.0  \n",
       "1      Colon and rectum [C18.0-C18.9, C19.9, C20.9, C...                64.2  \n",
       "2      Colon and rectum [C18.0-C18.9, C19.9, C20.9, C...                63.2  \n",
       "3      Colon and rectum [C18.0-C18.9, C19.9, C20.9, C...                65.1  \n",
       "4      Colon and rectum [C18.0-C18.9, C19.9, C20.9, C...               135.0  \n",
       "...                                                  ...                 ...  \n",
       "59899                         Cervix uteri [C53.0-C53.9]                 NaN  \n",
       "59900                         Cervix uteri [C53.0-C53.9]                 NaN  \n",
       "59901                         Cervix uteri [C53.0-C53.9]                 NaN  \n",
       "59902                         Cervix uteri [C53.0-C53.9]                 NaN  \n",
       "59903                         Cervix uteri [C53.0-C53.9]                 NaN  \n",
       "\n",
       "[59904 rows x 5 columns]"
      ]
     },
     "execution_count": 26,
     "metadata": {},
     "output_type": "execute_result"
    }
   ],
   "source": [
    "df.columns = ['Year', 'Province','Sex', 'Types of cancer','Number of patients']\n",
    "df"
   ]
  },
  {
   "cell_type": "markdown",
   "id": "b615e813",
   "metadata": {},
   "source": [
    "# Clean type of cancer"
   ]
  },
  {
   "cell_type": "code",
   "execution_count": 27,
   "id": "81d67b63",
   "metadata": {},
   "outputs": [
    {
     "data": {
      "text/html": [
       "<div>\n",
       "<style scoped>\n",
       "    .dataframe tbody tr th:only-of-type {\n",
       "        vertical-align: middle;\n",
       "    }\n",
       "\n",
       "    .dataframe tbody tr th {\n",
       "        vertical-align: top;\n",
       "    }\n",
       "\n",
       "    .dataframe thead th {\n",
       "        text-align: right;\n",
       "    }\n",
       "</style>\n",
       "<table border=\"1\" class=\"dataframe\">\n",
       "  <thead>\n",
       "    <tr style=\"text-align: right;\">\n",
       "      <th></th>\n",
       "      <th>Year</th>\n",
       "      <th>Province</th>\n",
       "      <th>Sex</th>\n",
       "      <th>Types of cancer</th>\n",
       "      <th>Number of patients</th>\n",
       "    </tr>\n",
       "  </thead>\n",
       "  <tbody>\n",
       "    <tr>\n",
       "      <th>0</th>\n",
       "      <td>2010</td>\n",
       "      <td>Canada excluding Quebec</td>\n",
       "      <td>Both sexes</td>\n",
       "      <td>Colon and rectum</td>\n",
       "      <td>16165.0</td>\n",
       "    </tr>\n",
       "    <tr>\n",
       "      <th>1</th>\n",
       "      <td>2010</td>\n",
       "      <td>Canada excluding Quebec</td>\n",
       "      <td>Both sexes</td>\n",
       "      <td>Colon and rectum</td>\n",
       "      <td>64.2</td>\n",
       "    </tr>\n",
       "    <tr>\n",
       "      <th>2</th>\n",
       "      <td>2010</td>\n",
       "      <td>Canada excluding Quebec</td>\n",
       "      <td>Both sexes</td>\n",
       "      <td>Colon and rectum</td>\n",
       "      <td>63.2</td>\n",
       "    </tr>\n",
       "    <tr>\n",
       "      <th>3</th>\n",
       "      <td>2010</td>\n",
       "      <td>Canada excluding Quebec</td>\n",
       "      <td>Both sexes</td>\n",
       "      <td>Colon and rectum</td>\n",
       "      <td>65.1</td>\n",
       "    </tr>\n",
       "    <tr>\n",
       "      <th>4</th>\n",
       "      <td>2010</td>\n",
       "      <td>Canada excluding Quebec</td>\n",
       "      <td>Both sexes</td>\n",
       "      <td>Colon and rectum</td>\n",
       "      <td>135.0</td>\n",
       "    </tr>\n",
       "    <tr>\n",
       "      <th>...</th>\n",
       "      <td>...</td>\n",
       "      <td>...</td>\n",
       "      <td>...</td>\n",
       "      <td>...</td>\n",
       "      <td>...</td>\n",
       "    </tr>\n",
       "    <tr>\n",
       "      <th>59899</th>\n",
       "      <td>2017</td>\n",
       "      <td>Nunavut</td>\n",
       "      <td>Females</td>\n",
       "      <td>Cervix uteri</td>\n",
       "      <td>NaN</td>\n",
       "    </tr>\n",
       "    <tr>\n",
       "      <th>59900</th>\n",
       "      <td>2017</td>\n",
       "      <td>Nunavut</td>\n",
       "      <td>Females</td>\n",
       "      <td>Cervix uteri</td>\n",
       "      <td>NaN</td>\n",
       "    </tr>\n",
       "    <tr>\n",
       "      <th>59901</th>\n",
       "      <td>2017</td>\n",
       "      <td>Nunavut</td>\n",
       "      <td>Females</td>\n",
       "      <td>Cervix uteri</td>\n",
       "      <td>NaN</td>\n",
       "    </tr>\n",
       "    <tr>\n",
       "      <th>59902</th>\n",
       "      <td>2017</td>\n",
       "      <td>Nunavut</td>\n",
       "      <td>Females</td>\n",
       "      <td>Cervix uteri</td>\n",
       "      <td>NaN</td>\n",
       "    </tr>\n",
       "    <tr>\n",
       "      <th>59903</th>\n",
       "      <td>2017</td>\n",
       "      <td>Nunavut</td>\n",
       "      <td>Females</td>\n",
       "      <td>Cervix uteri</td>\n",
       "      <td>NaN</td>\n",
       "    </tr>\n",
       "  </tbody>\n",
       "</table>\n",
       "<p>59904 rows × 5 columns</p>\n",
       "</div>"
      ],
      "text/plain": [
       "       Year                 Province         Sex   Types of cancer  \\\n",
       "0      2010  Canada excluding Quebec  Both sexes  Colon and rectum   \n",
       "1      2010  Canada excluding Quebec  Both sexes  Colon and rectum   \n",
       "2      2010  Canada excluding Quebec  Both sexes  Colon and rectum   \n",
       "3      2010  Canada excluding Quebec  Both sexes  Colon and rectum   \n",
       "4      2010  Canada excluding Quebec  Both sexes  Colon and rectum   \n",
       "...     ...                      ...         ...               ...   \n",
       "59899  2017                  Nunavut     Females      Cervix uteri   \n",
       "59900  2017                  Nunavut     Females      Cervix uteri   \n",
       "59901  2017                  Nunavut     Females      Cervix uteri   \n",
       "59902  2017                  Nunavut     Females      Cervix uteri   \n",
       "59903  2017                  Nunavut     Females      Cervix uteri   \n",
       "\n",
       "       Number of patients  \n",
       "0                 16165.0  \n",
       "1                    64.2  \n",
       "2                    63.2  \n",
       "3                    65.1  \n",
       "4                   135.0  \n",
       "...                   ...  \n",
       "59899                 NaN  \n",
       "59900                 NaN  \n",
       "59901                 NaN  \n",
       "59902                 NaN  \n",
       "59903                 NaN  \n",
       "\n",
       "[59904 rows x 5 columns]"
      ]
     },
     "execution_count": 27,
     "metadata": {},
     "output_type": "execute_result"
    }
   ],
   "source": [
    "# clean type of cancer values\n",
    "df['Types of cancer'] = df['Types of cancer'].str.replace(r'\\[.*?\\]', '', regex=True).str.strip()\n",
    "df"
   ]
  },
  {
   "cell_type": "code",
   "execution_count": 28,
   "id": "97e38218",
   "metadata": {},
   "outputs": [
    {
     "data": {
      "text/plain": [
       "Year                      0\n",
       "Province                  0\n",
       "Sex                       0\n",
       "Types of cancer           0\n",
       "Number of patients    17696\n",
       "dtype: int64"
      ]
     },
     "execution_count": 28,
     "metadata": {},
     "output_type": "execute_result"
    }
   ],
   "source": [
    "# check missing values\n",
    "df.isnull().sum()"
   ]
  },
  {
   "cell_type": "markdown",
   "id": "9b5ac089",
   "metadata": {},
   "source": [
    "#  Drop Missing Values Number of Patients"
   ]
  },
  {
   "cell_type": "code",
   "execution_count": 29,
   "id": "b21b4a63",
   "metadata": {},
   "outputs": [],
   "source": [
    "df.dropna(subset=['Number of patients'], inplace=True)\n"
   ]
  },
  {
   "cell_type": "code",
   "execution_count": 30,
   "id": "353ab8ef",
   "metadata": {},
   "outputs": [
    {
     "data": {
      "text/plain": [
       "Year                  0\n",
       "Province              0\n",
       "Sex                   0\n",
       "Types of cancer       0\n",
       "Number of patients    0\n",
       "dtype: int64"
      ]
     },
     "execution_count": 30,
     "metadata": {},
     "output_type": "execute_result"
    }
   ],
   "source": [
    "df.isnull().sum()"
   ]
  },
  {
   "cell_type": "code",
   "execution_count": 31,
   "id": "0855c141",
   "metadata": {},
   "outputs": [
    {
     "name": "stdout",
     "output_type": "stream",
     "text": [
      "<class 'pandas.core.frame.DataFrame'>\n",
      "Int64Index: 42208 entries, 0 to 59871\n",
      "Data columns (total 5 columns):\n",
      " #   Column              Non-Null Count  Dtype  \n",
      "---  ------              --------------  -----  \n",
      " 0   Year                42208 non-null  int64  \n",
      " 1   Province            42208 non-null  object \n",
      " 2   Sex                 42208 non-null  object \n",
      " 3   Types of cancer     42208 non-null  object \n",
      " 4   Number of patients  42208 non-null  float64\n",
      "dtypes: float64(1), int64(1), object(3)\n",
      "memory usage: 1.9+ MB\n"
     ]
    }
   ],
   "source": [
    "#information about data \n",
    "df.info()"
   ]
  },
  {
   "cell_type": "code",
   "execution_count": 32,
   "id": "5b0922f2",
   "metadata": {},
   "outputs": [
    {
     "data": {
      "text/html": [
       "<div>\n",
       "<style scoped>\n",
       "    .dataframe tbody tr th:only-of-type {\n",
       "        vertical-align: middle;\n",
       "    }\n",
       "\n",
       "    .dataframe tbody tr th {\n",
       "        vertical-align: top;\n",
       "    }\n",
       "\n",
       "    .dataframe thead th {\n",
       "        text-align: right;\n",
       "    }\n",
       "</style>\n",
       "<table border=\"1\" class=\"dataframe\">\n",
       "  <thead>\n",
       "    <tr style=\"text-align: right;\">\n",
       "      <th></th>\n",
       "      <th>Year</th>\n",
       "      <th>Number of patients</th>\n",
       "    </tr>\n",
       "  </thead>\n",
       "  <tbody>\n",
       "    <tr>\n",
       "      <th>count</th>\n",
       "      <td>42208.000000</td>\n",
       "      <td>42208.000000</td>\n",
       "    </tr>\n",
       "    <tr>\n",
       "      <th>mean</th>\n",
       "      <td>2013.509951</td>\n",
       "      <td>151.893710</td>\n",
       "    </tr>\n",
       "    <tr>\n",
       "      <th>std</th>\n",
       "      <td>2.294600</td>\n",
       "      <td>868.428355</td>\n",
       "    </tr>\n",
       "    <tr>\n",
       "      <th>min</th>\n",
       "      <td>2010.000000</td>\n",
       "      <td>0.000000</td>\n",
       "    </tr>\n",
       "    <tr>\n",
       "      <th>25%</th>\n",
       "      <td>2012.000000</td>\n",
       "      <td>4.800000</td>\n",
       "    </tr>\n",
       "    <tr>\n",
       "      <th>50%</th>\n",
       "      <td>2014.000000</td>\n",
       "      <td>12.400000</td>\n",
       "    </tr>\n",
       "    <tr>\n",
       "      <th>75%</th>\n",
       "      <td>2016.000000</td>\n",
       "      <td>49.425000</td>\n",
       "    </tr>\n",
       "    <tr>\n",
       "      <th>max</th>\n",
       "      <td>2017.000000</td>\n",
       "      <td>19730.000000</td>\n",
       "    </tr>\n",
       "  </tbody>\n",
       "</table>\n",
       "</div>"
      ],
      "text/plain": [
       "               Year  Number of patients\n",
       "count  42208.000000        42208.000000\n",
       "mean    2013.509951          151.893710\n",
       "std        2.294600          868.428355\n",
       "min     2010.000000            0.000000\n",
       "25%     2012.000000            4.800000\n",
       "50%     2014.000000           12.400000\n",
       "75%     2016.000000           49.425000\n",
       "max     2017.000000        19730.000000"
      ]
     },
     "execution_count": 32,
     "metadata": {},
     "output_type": "execute_result"
    }
   ],
   "source": [
    "df.describe()"
   ]
  },
  {
   "cell_type": "code",
   "execution_count": 37,
   "id": "6353093e",
   "metadata": {},
   "outputs": [
    {
     "data": {
      "text/plain": [
       "array([[<AxesSubplot:title={'center':'Year'}>,\n",
       "        <AxesSubplot:title={'center':'Number of patients'}>]],\n",
       "      dtype=object)"
      ]
     },
     "execution_count": 37,
     "metadata": {},
     "output_type": "execute_result"
    },
    {
     "data": {
      "image/png": "[encoded data removed]",
      "text/plain": [
       "<Figure size 1000x500 with 2 Axes>"
      ]
     },
     "metadata": {},
     "output_type": "display_data"
    }
   ],
   "source": [
    "df.hist(bins=20, figsize=(10,5)) \n"
   ]
  },
  {
   "cell_type": "markdown",
   "id": "da3a3619",
   "metadata": {},
   "source": [
    "# Convert textual categories to integers"
   ]
  },
  {
   "cell_type": "code",
   "execution_count": 91,
   "id": "8c0a09f8",
   "metadata": {},
   "outputs": [],
   "source": [
    "from sklearn.preprocessing import LabelEncoder\n",
    "label_encoders = {}\n",
    "for column in ['Province', 'Sex', 'Types of cancer']:\n",
    "    l = LabelEncoder()\n",
    "    df[column] = l.fit_transform(df[column])\n",
    "    label_encoders[column] = l"
   ]
  },
  {
   "cell_type": "code",
   "execution_count": 40,
   "id": "25a515bc",
   "metadata": {},
   "outputs": [
    {
     "data": {
      "text/html": [
       "<div>\n",
       "<style scoped>\n",
       "    .dataframe tbody tr th:only-of-type {\n",
       "        vertical-align: middle;\n",
       "    }\n",
       "\n",
       "    .dataframe tbody tr th {\n",
       "        vertical-align: top;\n",
       "    }\n",
       "\n",
       "    .dataframe thead th {\n",
       "        text-align: right;\n",
       "    }\n",
       "</style>\n",
       "<table border=\"1\" class=\"dataframe\">\n",
       "  <thead>\n",
       "    <tr style=\"text-align: right;\">\n",
       "      <th></th>\n",
       "      <th>Year</th>\n",
       "      <th>Province</th>\n",
       "      <th>Sex</th>\n",
       "      <th>Types of cancer</th>\n",
       "      <th>Number of patients</th>\n",
       "    </tr>\n",
       "  </thead>\n",
       "  <tbody>\n",
       "    <tr>\n",
       "      <th>0</th>\n",
       "      <td>2010</td>\n",
       "      <td>2</td>\n",
       "      <td>0</td>\n",
       "      <td>2</td>\n",
       "      <td>16165.0</td>\n",
       "    </tr>\n",
       "    <tr>\n",
       "      <th>1</th>\n",
       "      <td>2010</td>\n",
       "      <td>2</td>\n",
       "      <td>0</td>\n",
       "      <td>2</td>\n",
       "      <td>64.2</td>\n",
       "    </tr>\n",
       "    <tr>\n",
       "      <th>2</th>\n",
       "      <td>2010</td>\n",
       "      <td>2</td>\n",
       "      <td>0</td>\n",
       "      <td>2</td>\n",
       "      <td>63.2</td>\n",
       "    </tr>\n",
       "    <tr>\n",
       "      <th>3</th>\n",
       "      <td>2010</td>\n",
       "      <td>2</td>\n",
       "      <td>0</td>\n",
       "      <td>2</td>\n",
       "      <td>65.1</td>\n",
       "    </tr>\n",
       "    <tr>\n",
       "      <th>4</th>\n",
       "      <td>2010</td>\n",
       "      <td>2</td>\n",
       "      <td>0</td>\n",
       "      <td>2</td>\n",
       "      <td>135.0</td>\n",
       "    </tr>\n",
       "    <tr>\n",
       "      <th>...</th>\n",
       "      <td>...</td>\n",
       "      <td>...</td>\n",
       "      <td>...</td>\n",
       "      <td>...</td>\n",
       "      <td>...</td>\n",
       "    </tr>\n",
       "    <tr>\n",
       "      <th>59855</th>\n",
       "      <td>2017</td>\n",
       "      <td>8</td>\n",
       "      <td>1</td>\n",
       "      <td>0</td>\n",
       "      <td>340.1</td>\n",
       "    </tr>\n",
       "    <tr>\n",
       "      <th>59868</th>\n",
       "      <td>2017</td>\n",
       "      <td>8</td>\n",
       "      <td>1</td>\n",
       "      <td>0</td>\n",
       "      <td>5.0</td>\n",
       "    </tr>\n",
       "    <tr>\n",
       "      <th>59869</th>\n",
       "      <td>2017</td>\n",
       "      <td>8</td>\n",
       "      <td>1</td>\n",
       "      <td>0</td>\n",
       "      <td>25.0</td>\n",
       "    </tr>\n",
       "    <tr>\n",
       "      <th>59870</th>\n",
       "      <td>2017</td>\n",
       "      <td>8</td>\n",
       "      <td>1</td>\n",
       "      <td>0</td>\n",
       "      <td>4.2</td>\n",
       "    </tr>\n",
       "    <tr>\n",
       "      <th>59871</th>\n",
       "      <td>2017</td>\n",
       "      <td>8</td>\n",
       "      <td>1</td>\n",
       "      <td>0</td>\n",
       "      <td>350.6</td>\n",
       "    </tr>\n",
       "  </tbody>\n",
       "</table>\n",
       "<p>42208 rows × 5 columns</p>\n",
       "</div>"
      ],
      "text/plain": [
       "       Year  Province  Sex  Types of cancer  Number of patients\n",
       "0      2010         2    0                2             16165.0\n",
       "1      2010         2    0                2                64.2\n",
       "2      2010         2    0                2                63.2\n",
       "3      2010         2    0                2                65.1\n",
       "4      2010         2    0                2               135.0\n",
       "...     ...       ...  ...              ...                 ...\n",
       "59855  2017         8    1                0               340.1\n",
       "59868  2017         8    1                0                 5.0\n",
       "59869  2017         8    1                0                25.0\n",
       "59870  2017         8    1                0                 4.2\n",
       "59871  2017         8    1                0               350.6\n",
       "\n",
       "[42208 rows x 5 columns]"
      ]
     },
     "execution_count": 40,
     "metadata": {},
     "output_type": "execute_result"
    }
   ],
   "source": [
    "df"
   ]
  },
  {
   "cell_type": "markdown",
   "id": "54149c65",
   "metadata": {},
   "source": [
    "# Train Test Split"
   ]
  },
  {
   "cell_type": "code",
   "execution_count": 46,
   "id": "c82aae6c",
   "metadata": {},
   "outputs": [],
   "source": [
    "X = df[['Year', 'Province', 'Sex', 'Types of cancer']]\n",
    "Y = df['Number of patients']\n",
    "X_train, X_test, y_train, y_test = train_test_split(X, Y, random_state=42)"
   ]
  },
  {
   "cell_type": "markdown",
   "id": "cc018ebd",
   "metadata": {},
   "source": [
    "# linear Regression"
   ]
  },
  {
   "cell_type": "code",
   "execution_count": 92,
   "id": "c8d93283",
   "metadata": {},
   "outputs": [
    {
     "data": {
      "text/html": [
       "<style>#sk-container-id-9 {color: black;background-color: white;}#sk-container-id-9 pre{padding: 0;}#sk-container-id-9 div.sk-toggleable {background-color: white;}#sk-container-id-9 label.sk-toggleable__label {cursor: pointer;display: block;width: 100%;margin-bottom: 0;padding: 0.3em;box-sizing: border-box;text-align: center;}#sk-container-id-9 label.sk-toggleable__label-arrow:before {content: \"▸\";float: left;margin-right: 0.25em;color: #696969;}#sk-container-id-9 label.sk-toggleable__label-arrow:hover:before {color: black;}#sk-container-id-9 div.sk-estimator:hover label.sk-toggleable__label-arrow:before {color: black;}#sk-container-id-9 div.sk-toggleable__content {max-height: 0;max-width: 0;overflow: hidden;text-align: left;background-color: #f0f8ff;}#sk-container-id-9 div.sk-toggleable__content pre {margin: 0.2em;color: black;border-radius: 0.25em;background-color: #f0f8ff;}#sk-container-id-9 input.sk-toggleable__control:checked~div.sk-toggleable__content {max-height: 200px;max-width: 100%;overflow: auto;}#sk-container-id-9 input.sk-toggleable__control:checked~label.sk-toggleable__label-arrow:before {content: \"▾\";}#sk-container-id-9 div.sk-estimator input.sk-toggleable__control:checked~label.sk-toggleable__label {background-color: #d4ebff;}#sk-container-id-9 div.sk-label input.sk-toggleable__control:checked~label.sk-toggleable__label {background-color: #d4ebff;}#sk-container-id-9 input.sk-hidden--visually {border: 0;clip: rect(1px 1px 1px 1px);clip: rect(1px, 1px, 1px, 1px);height: 1px;margin: -1px;overflow: hidden;padding: 0;position: absolute;width: 1px;}#sk-container-id-9 div.sk-estimator {font-family: monospace;background-color: #f0f8ff;border: 1px dotted black;border-radius: 0.25em;box-sizing: border-box;margin-bottom: 0.5em;}#sk-container-id-9 div.sk-estimator:hover {background-color: #d4ebff;}#sk-container-id-9 div.sk-parallel-item::after {content: \"\";width: 100%;border-bottom: 1px solid gray;flex-grow: 1;}#sk-container-id-9 div.sk-label:hover label.sk-toggleable__label {background-color: #d4ebff;}#sk-container-id-9 div.sk-serial::before {content: \"\";position: absolute;border-left: 1px solid gray;box-sizing: border-box;top: 0;bottom: 0;left: 50%;z-index: 0;}#sk-container-id-9 div.sk-serial {display: flex;flex-direction: column;align-items: center;background-color: white;padding-right: 0.2em;padding-left: 0.2em;position: relative;}#sk-container-id-9 div.sk-item {position: relative;z-index: 1;}#sk-container-id-9 div.sk-parallel {display: flex;align-items: stretch;justify-content: center;background-color: white;position: relative;}#sk-container-id-9 div.sk-item::before, #sk-container-id-9 div.sk-parallel-item::before {content: \"\";position: absolute;border-left: 1px solid gray;box-sizing: border-box;top: 0;bottom: 0;left: 50%;z-index: -1;}#sk-container-id-9 div.sk-parallel-item {display: flex;flex-direction: column;z-index: 1;position: relative;background-color: white;}#sk-container-id-9 div.sk-parallel-item:first-child::after {align-self: flex-end;width: 50%;}#sk-container-id-9 div.sk-parallel-item:last-child::after {align-self: flex-start;width: 50%;}#sk-container-id-9 div.sk-parallel-item:only-child::after {width: 0;}#sk-container-id-9 div.sk-dashed-wrapped {border: 1px dashed gray;margin: 0 0.4em 0.5em 0.4em;box-sizing: border-box;padding-bottom: 0.4em;background-color: white;}#sk-container-id-9 div.sk-label label {font-family: monospace;font-weight: bold;display: inline-block;line-height: 1.2em;}#sk-container-id-9 div.sk-label-container {text-align: center;}#sk-container-id-9 div.sk-container {/* jupyter's `normalize.less` sets `[hidden] { display: none; }` but bootstrap.min.css set `[hidden] { display: none !important; }` so we also need the `!important` here to be able to override the default hidden behavior on the sphinx rendered scikit-learn.org. See: https://github.com/scikit-learn/scikit-learn/issues/21755 */display: inline-block !important;position: relative;}#sk-container-id-9 div.sk-text-repr-fallback {display: none;}</style><div id=\"sk-container-id-9\" class=\"sk-top-container\"><div class=\"sk-text-repr-fallback\"><pre>LinearRegression()</pre><b>In a Jupyter environment, please rerun this cell to show the HTML representation or trust the notebook. <br />On GitHub, the HTML representation is unable to render, please try loading this page with nbviewer.org.</b></div><div class=\"sk-container\" hidden><div class=\"sk-item\"><div class=\"sk-estimator sk-toggleable\"><input class=\"sk-toggleable__control sk-hidden--visually\" id=\"sk-estimator-id-9\" type=\"checkbox\" checked><label for=\"sk-estimator-id-9\" class=\"sk-toggleable__label sk-toggleable__label-arrow\">LinearRegression</label><div class=\"sk-toggleable__content\"><pre>LinearRegression()</pre></div></div></div></div></div>"
      ],
      "text/plain": [
       "LinearRegression()"
      ]
     },
     "execution_count": 92,
     "metadata": {},
     "output_type": "execute_result"
    }
   ],
   "source": [
    "## Create the linear regression object and fit the model\n",
    "lm = LinearRegression()\n",
    "lm.fit(X,Y)"
   ]
  },
  {
   "cell_type": "markdown",
   "id": "a7e21dfb",
   "metadata": {},
   "source": [
    "# Predictions"
   ]
  },
  {
   "cell_type": "code",
   "execution_count": 93,
   "id": "0e6b8685",
   "metadata": {},
   "outputs": [],
   "source": [
    "pred=lm.predict(X_test)"
   ]
  },
  {
   "cell_type": "markdown",
   "id": "da099f1d",
   "metadata": {},
   "source": [
    "# Evaluate by mse"
   ]
  },
  {
   "cell_type": "code",
   "execution_count": 94,
   "id": "118874f8",
   "metadata": {},
   "outputs": [
    {
     "data": {
      "text/plain": [
       "655442.4707335171"
      ]
     },
     "execution_count": 94,
     "metadata": {},
     "output_type": "execute_result"
    }
   ],
   "source": [
    "mse = mean_squared_error(y_test, pred)\n",
    "mse"
   ]
  },
  {
   "cell_type": "markdown",
   "id": "1b435349",
   "metadata": {},
   "source": [
    "# Evaluate by rmse"
   ]
  },
  {
   "cell_type": "code",
   "execution_count": 95,
   "id": "a122ca53",
   "metadata": {},
   "outputs": [
    {
     "data": {
      "text/plain": [
       "809.5940159941383"
      ]
     },
     "execution_count": 95,
     "metadata": {},
     "output_type": "execute_result"
    }
   ],
   "source": [
    "pred=lm.predict(X_test)\n",
    "lm_mse = mean_squared_error(y_test, pred)\n",
    "lm_rmse = np.sqrt(lm_mse)\n",
    "lm_rmse"
   ]
  },
  {
   "cell_type": "markdown",
   "id": "9cd633e8",
   "metadata": {},
   "source": [
    "# Visualize Scatter Plot"
   ]
  },
  {
   "cell_type": "code",
   "execution_count": 96,
   "id": "3838f414",
   "metadata": {},
   "outputs": [
    {
     "data": {
      "image/png": "[encoded data removed]",
      "text/plain": [
       "<Figure size 640x480 with 1 Axes>"
      ]
     },
     "metadata": {},
     "output_type": "display_data"
    }
   ],
   "source": [
    "plt.scatter(y_test, pred)\n",
    "plt.xlabel('Real Number of Patients')\n",
    "plt.ylabel('Predicted Number of Patients')\n",
    "plt.title('Real vs Predicted')\n",
    "plt.show()"
   ]
  },
  {
   "cell_type": "markdown",
   "id": "5d1d2d75",
   "metadata": {},
   "source": [
    "# DecisionTreeRegressor\n"
   ]
  },
  {
   "cell_type": "code",
   "execution_count": 97,
   "id": "dcfb4013",
   "metadata": {},
   "outputs": [
    {
     "data": {
      "text/html": [
       "<style>#sk-container-id-10 {color: black;background-color: white;}#sk-container-id-10 pre{padding: 0;}#sk-container-id-10 div.sk-toggleable {background-color: white;}#sk-container-id-10 label.sk-toggleable__label {cursor: pointer;display: block;width: 100%;margin-bottom: 0;padding: 0.3em;box-sizing: border-box;text-align: center;}#sk-container-id-10 label.sk-toggleable__label-arrow:before {content: \"▸\";float: left;margin-right: 0.25em;color: #696969;}#sk-container-id-10 label.sk-toggleable__label-arrow:hover:before {color: black;}#sk-container-id-10 div.sk-estimator:hover label.sk-toggleable__label-arrow:before {color: black;}#sk-container-id-10 div.sk-toggleable__content {max-height: 0;max-width: 0;overflow: hidden;text-align: left;background-color: #f0f8ff;}#sk-container-id-10 div.sk-toggleable__content pre {margin: 0.2em;color: black;border-radius: 0.25em;background-color: #f0f8ff;}#sk-container-id-10 input.sk-toggleable__control:checked~div.sk-toggleable__content {max-height: 200px;max-width: 100%;overflow: auto;}#sk-container-id-10 input.sk-toggleable__control:checked~label.sk-toggleable__label-arrow:before {content: \"▾\";}#sk-container-id-10 div.sk-estimator input.sk-toggleable__control:checked~label.sk-toggleable__label {background-color: #d4ebff;}#sk-container-id-10 div.sk-label input.sk-toggleable__control:checked~label.sk-toggleable__label {background-color: #d4ebff;}#sk-container-id-10 input.sk-hidden--visually {border: 0;clip: rect(1px 1px 1px 1px);clip: rect(1px, 1px, 1px, 1px);height: 1px;margin: -1px;overflow: hidden;padding: 0;position: absolute;width: 1px;}#sk-container-id-10 div.sk-estimator {font-family: monospace;background-color: #f0f8ff;border: 1px dotted black;border-radius: 0.25em;box-sizing: border-box;margin-bottom: 0.5em;}#sk-container-id-10 div.sk-estimator:hover {background-color: #d4ebff;}#sk-container-id-10 div.sk-parallel-item::after {content: \"\";width: 100%;border-bottom: 1px solid gray;flex-grow: 1;}#sk-container-id-10 div.sk-label:hover label.sk-toggleable__label {background-color: #d4ebff;}#sk-container-id-10 div.sk-serial::before {content: \"\";position: absolute;border-left: 1px solid gray;box-sizing: border-box;top: 0;bottom: 0;left: 50%;z-index: 0;}#sk-container-id-10 div.sk-serial {display: flex;flex-direction: column;align-items: center;background-color: white;padding-right: 0.2em;padding-left: 0.2em;position: relative;}#sk-container-id-10 div.sk-item {position: relative;z-index: 1;}#sk-container-id-10 div.sk-parallel {display: flex;align-items: stretch;justify-content: center;background-color: white;position: relative;}#sk-container-id-10 div.sk-item::before, #sk-container-id-10 div.sk-parallel-item::before {content: \"\";position: absolute;border-left: 1px solid gray;box-sizing: border-box;top: 0;bottom: 0;left: 50%;z-index: -1;}#sk-container-id-10 div.sk-parallel-item {display: flex;flex-direction: column;z-index: 1;position: relative;background-color: white;}#sk-container-id-10 div.sk-parallel-item:first-child::after {align-self: flex-end;width: 50%;}#sk-container-id-10 div.sk-parallel-item:last-child::after {align-self: flex-start;width: 50%;}#sk-container-id-10 div.sk-parallel-item:only-child::after {width: 0;}#sk-container-id-10 div.sk-dashed-wrapped {border: 1px dashed gray;margin: 0 0.4em 0.5em 0.4em;box-sizing: border-box;padding-bottom: 0.4em;background-color: white;}#sk-container-id-10 div.sk-label label {font-family: monospace;font-weight: bold;display: inline-block;line-height: 1.2em;}#sk-container-id-10 div.sk-label-container {text-align: center;}#sk-container-id-10 div.sk-container {/* jupyter's `normalize.less` sets `[hidden] { display: none; }` but bootstrap.min.css set `[hidden] { display: none !important; }` so we also need the `!important` here to be able to override the default hidden behavior on the sphinx rendered scikit-learn.org. See: https://github.com/scikit-learn/scikit-learn/issues/21755 */display: inline-block !important;position: relative;}#sk-container-id-10 div.sk-text-repr-fallback {display: none;}</style><div id=\"sk-container-id-10\" class=\"sk-top-container\"><div class=\"sk-text-repr-fallback\"><pre>DecisionTreeRegressor()</pre><b>In a Jupyter environment, please rerun this cell to show the HTML representation or trust the notebook. <br />On GitHub, the HTML representation is unable to render, please try loading this page with nbviewer.org.</b></div><div class=\"sk-container\" hidden><div class=\"sk-item\"><div class=\"sk-estimator sk-toggleable\"><input class=\"sk-toggleable__control sk-hidden--visually\" id=\"sk-estimator-id-10\" type=\"checkbox\" checked><label for=\"sk-estimator-id-10\" class=\"sk-toggleable__label sk-toggleable__label-arrow\">DecisionTreeRegressor</label><div class=\"sk-toggleable__content\"><pre>DecisionTreeRegressor()</pre></div></div></div></div></div>"
      ],
      "text/plain": [
       "DecisionTreeRegressor()"
      ]
     },
     "execution_count": 97,
     "metadata": {},
     "output_type": "execute_result"
    }
   ],
   "source": [
    "from sklearn.tree import DecisionTreeRegressor\n",
    "tree_reg = DecisionTreeRegressor()\n",
    "tree_reg.fit(X,Y)"
   ]
  },
  {
   "cell_type": "markdown",
   "id": "6a0b59eb",
   "metadata": {},
   "source": [
    "#  Evaluate by rmse"
   ]
  },
  {
   "cell_type": "code",
   "execution_count": 98,
   "id": "59fe805b",
   "metadata": {},
   "outputs": [
    {
     "data": {
      "text/plain": [
       "779.2593250150132"
      ]
     },
     "execution_count": 98,
     "metadata": {},
     "output_type": "execute_result"
    }
   ],
   "source": [
    "pred=tree_reg.predict(X_test)\n",
    "tree_mse = mean_squared_error(y_test, pred)\n",
    "tree_rmse = np.sqrt(tree_mse)\n",
    "tree_rmse\n"
   ]
  },
  {
   "cell_type": "markdown",
   "id": "773f568a",
   "metadata": {},
   "source": [
    "# Evaluate by mse"
   ]
  },
  {
   "cell_type": "code",
   "execution_count": 99,
   "id": "7c1f53dd",
   "metadata": {},
   "outputs": [
    {
     "data": {
      "text/plain": [
       "607245.0956228541"
      ]
     },
     "execution_count": 99,
     "metadata": {},
     "output_type": "execute_result"
    }
   ],
   "source": [
    "mse = mean_squared_error(y_test, pred)\n",
    "mse"
   ]
  },
  {
   "cell_type": "markdown",
   "id": "059317aa",
   "metadata": {},
   "source": [
    "# Visualize Scatter Plot"
   ]
  },
  {
   "cell_type": "code",
   "execution_count": 100,
   "id": "5a747365",
   "metadata": {},
   "outputs": [
    {
     "data": {
      "image/png": "[encoded data removed]",
      "text/plain": [
       "<Figure size 640x480 with 1 Axes>"
      ]
     },
     "metadata": {},
     "output_type": "display_data"
    }
   ],
   "source": [
    "plt.scatter(y_test, pred)\n",
    "plt.xlabel('Real Number of Patients')\n",
    "plt.ylabel('Predicted Number of Patients')\n",
    "plt.title('Real vs Predicted')\n",
    "plt.show()"
   ]
  },
  {
   "cell_type": "markdown",
   "id": "375d06ae",
   "metadata": {},
   "source": [
    "# RandomForestRegressor"
   ]
  },
  {
   "cell_type": "code",
   "execution_count": 101,
   "id": "745bd2cc",
   "metadata": {},
   "outputs": [
    {
     "data": {
      "text/html": [
       "<style>#sk-container-id-11 {color: black;background-color: white;}#sk-container-id-11 pre{padding: 0;}#sk-container-id-11 div.sk-toggleable {background-color: white;}#sk-container-id-11 label.sk-toggleable__label {cursor: pointer;display: block;width: 100%;margin-bottom: 0;padding: 0.3em;box-sizing: border-box;text-align: center;}#sk-container-id-11 label.sk-toggleable__label-arrow:before {content: \"▸\";float: left;margin-right: 0.25em;color: #696969;}#sk-container-id-11 label.sk-toggleable__label-arrow:hover:before {color: black;}#sk-container-id-11 div.sk-estimator:hover label.sk-toggleable__label-arrow:before {color: black;}#sk-container-id-11 div.sk-toggleable__content {max-height: 0;max-width: 0;overflow: hidden;text-align: left;background-color: #f0f8ff;}#sk-container-id-11 div.sk-toggleable__content pre {margin: 0.2em;color: black;border-radius: 0.25em;background-color: #f0f8ff;}#sk-container-id-11 input.sk-toggleable__control:checked~div.sk-toggleable__content {max-height: 200px;max-width: 100%;overflow: auto;}#sk-container-id-11 input.sk-toggleable__control:checked~label.sk-toggleable__label-arrow:before {content: \"▾\";}#sk-container-id-11 div.sk-estimator input.sk-toggleable__control:checked~label.sk-toggleable__label {background-color: #d4ebff;}#sk-container-id-11 div.sk-label input.sk-toggleable__control:checked~label.sk-toggleable__label {background-color: #d4ebff;}#sk-container-id-11 input.sk-hidden--visually {border: 0;clip: rect(1px 1px 1px 1px);clip: rect(1px, 1px, 1px, 1px);height: 1px;margin: -1px;overflow: hidden;padding: 0;position: absolute;width: 1px;}#sk-container-id-11 div.sk-estimator {font-family: monospace;background-color: #f0f8ff;border: 1px dotted black;border-radius: 0.25em;box-sizing: border-box;margin-bottom: 0.5em;}#sk-container-id-11 div.sk-estimator:hover {background-color: #d4ebff;}#sk-container-id-11 div.sk-parallel-item::after {content: \"\";width: 100%;border-bottom: 1px solid gray;flex-grow: 1;}#sk-container-id-11 div.sk-label:hover label.sk-toggleable__label {background-color: #d4ebff;}#sk-container-id-11 div.sk-serial::before {content: \"\";position: absolute;border-left: 1px solid gray;box-sizing: border-box;top: 0;bottom: 0;left: 50%;z-index: 0;}#sk-container-id-11 div.sk-serial {display: flex;flex-direction: column;align-items: center;background-color: white;padding-right: 0.2em;padding-left: 0.2em;position: relative;}#sk-container-id-11 div.sk-item {position: relative;z-index: 1;}#sk-container-id-11 div.sk-parallel {display: flex;align-items: stretch;justify-content: center;background-color: white;position: relative;}#sk-container-id-11 div.sk-item::before, #sk-container-id-11 div.sk-parallel-item::before {content: \"\";position: absolute;border-left: 1px solid gray;box-sizing: border-box;top: 0;bottom: 0;left: 50%;z-index: -1;}#sk-container-id-11 div.sk-parallel-item {display: flex;flex-direction: column;z-index: 1;position: relative;background-color: white;}#sk-container-id-11 div.sk-parallel-item:first-child::after {align-self: flex-end;width: 50%;}#sk-container-id-11 div.sk-parallel-item:last-child::after {align-self: flex-start;width: 50%;}#sk-container-id-11 div.sk-parallel-item:only-child::after {width: 0;}#sk-container-id-11 div.sk-dashed-wrapped {border: 1px dashed gray;margin: 0 0.4em 0.5em 0.4em;box-sizing: border-box;padding-bottom: 0.4em;background-color: white;}#sk-container-id-11 div.sk-label label {font-family: monospace;font-weight: bold;display: inline-block;line-height: 1.2em;}#sk-container-id-11 div.sk-label-container {text-align: center;}#sk-container-id-11 div.sk-container {/* jupyter's `normalize.less` sets `[hidden] { display: none; }` but bootstrap.min.css set `[hidden] { display: none !important; }` so we also need the `!important` here to be able to override the default hidden behavior on the sphinx rendered scikit-learn.org. See: https://github.com/scikit-learn/scikit-learn/issues/21755 */display: inline-block !important;position: relative;}#sk-container-id-11 div.sk-text-repr-fallback {display: none;}</style><div id=\"sk-container-id-11\" class=\"sk-top-container\"><div class=\"sk-text-repr-fallback\"><pre>RandomForestRegressor()</pre><b>In a Jupyter environment, please rerun this cell to show the HTML representation or trust the notebook. <br />On GitHub, the HTML representation is unable to render, please try loading this page with nbviewer.org.</b></div><div class=\"sk-container\" hidden><div class=\"sk-item\"><div class=\"sk-estimator sk-toggleable\"><input class=\"sk-toggleable__control sk-hidden--visually\" id=\"sk-estimator-id-11\" type=\"checkbox\" checked><label for=\"sk-estimator-id-11\" class=\"sk-toggleable__label sk-toggleable__label-arrow\">RandomForestRegressor</label><div class=\"sk-toggleable__content\"><pre>RandomForestRegressor()</pre></div></div></div></div></div>"
      ],
      "text/plain": [
       "RandomForestRegressor()"
      ]
     },
     "execution_count": 101,
     "metadata": {},
     "output_type": "execute_result"
    }
   ],
   "source": [
    "from sklearn.ensemble import RandomForestRegressor\n",
    "forest_reg = RandomForestRegressor()\n",
    "forest_reg.fit(X,Y)"
   ]
  },
  {
   "cell_type": "markdown",
   "id": "1a9327c9",
   "metadata": {},
   "source": [
    "# Evaluate random forest by rmse"
   ]
  },
  {
   "cell_type": "code",
   "execution_count": 102,
   "id": "5e6e1c19",
   "metadata": {},
   "outputs": [
    {
     "data": {
      "text/plain": [
       "779.492326709332"
      ]
     },
     "execution_count": 102,
     "metadata": {},
     "output_type": "execute_result"
    }
   ],
   "source": [
    "## evaluate random forest by rmse\n",
    "pred = forest_reg.predict(X_test)\n",
    "forest_mse = mean_squared_error(y_test, pred)\n",
    "forest_rmse = np.sqrt(forest_mse)\n",
    "forest_rmse"
   ]
  },
  {
   "cell_type": "markdown",
   "id": "01c4a400",
   "metadata": {},
   "source": [
    "# Evaluate random forest by mse"
   ]
  },
  {
   "cell_type": "code",
   "execution_count": 103,
   "id": "a8465301",
   "metadata": {},
   "outputs": [
    {
     "data": {
      "text/plain": [
       "607608.2873987281"
      ]
     },
     "execution_count": 103,
     "metadata": {},
     "output_type": "execute_result"
    }
   ],
   "source": [
    "mse = mean_squared_error(y_test, pred)\n",
    "mse"
   ]
  },
  {
   "cell_type": "markdown",
   "id": "580c0a18",
   "metadata": {},
   "source": [
    "# Visualize Scatter Plot"
   ]
  },
  {
   "cell_type": "code",
   "execution_count": 104,
   "id": "f17958cc",
   "metadata": {
    "scrolled": true
   },
   "outputs": [
    {
     "data": {
      "image/png": "[encoded data removed]",
      "text/plain": [
       "<Figure size 640x480 with 1 Axes>"
      ]
     },
     "metadata": {},
     "output_type": "display_data"
    }
   ],
   "source": [
    "plt.scatter(y_test, pred)\n",
    "plt.xlabel('Real Number of Patients')\n",
    "plt.ylabel('Predicted Number of Patients')\n",
    "plt.title('Real vs Predicted')\n",
    "plt.show()"
   ]
  },
  {
   "cell_type": "markdown",
   "id": "1b782ff6",
   "metadata": {},
   "source": [
    "# Report\n"
   ]
  },
  {
   "cell_type": "markdown",
   "id": "234f8d57",
   "metadata": {},
   "source": [
    "Data source:Operating under the Statistics Act, the Canadian Cancer Registry (CCR) acts as a vast administrative data warehouse. Provincial/territorial Cancer Registries (PTCRs) provide Statistics Canada with information on cancer patients and tumours each year. The CCR, which is dynamic, experiences an influx of primary tumour records every year along with updates to previously reported data. https://www150.statcan.gc.ca/t1/tbl1/en/tv.action?pid=1310076201"
   ]
  },
  {
   "cell_type": "markdown",
   "id": "31807b59",
   "metadata": {},
   "source": [
    " Question:How can we forecast the number of patients for a specific region, gender, and cancer type in the upcoming years?"
   ]
  },
  {
   "attachments": {},
   "cell_type": "markdown",
   "id": "e54a1567",
   "metadata": {},
   "source": [
    "The use of machine learning for predictive modelling is one area where technology promises to be extremely valuable as the healthcare sector continues to develop. With the use of several variables like the year, province, gender, and cancer kind, our most recent project sought to forecast the number of cancer patients. This report details our progression from manipulating raw data to evaluating models and the learnings.\n",
    "\n",
    "Understanding and preprocessing the data are the first steps in every data science effort. Our dataset, which was derived from a CSV file, had superfluous columns that were later trimmed for effectiveness and clarity. For easier comprehension, the columns were then appropriately renamed to Year, Province, Sex, Types of cancer, and Number of patients. The Types of cancer column also underwent a cleaning procedure to remove any extraneous content, assuring the consistency and dependability of the data. Missing values in datasets may give falsely inflated findings. The same was true for our dataset. Gaps were found after a thorough inspection, particularly in the crucial Number of patients column. These anomalies were immediately fixed in order to preserve data integrity. After the dataset had been cleaned, we turned our focus to encoding. With numerical data, machine learning models perform at their best. As a result, our dataset's textual categories were automatically converted into integer representations, opening the door for modelling. The Linear Regression, Decision Tree Regressor, and Random Forest Regressor machine learning models were tested. The training dataset was used to train each model, and the test set was used to confirm its validity. An essential component of predictive modelling, the linear regression model, produced an RMSE and MSE of 809.5 and 655442.4, respectively. With an RMSE of 779.2 and an MSE of 607245.0, the Decision Tree Regressor, which builds a tree-like representation of decisions, outperformed the Linear Regression model. Last but not least, the ensemble learning technique known as the Random Forest Regressor, which had an RMSE of 779.4 and an MSE of 607608.28, generated outcomes comparable to those of the Decision Tree. The Decision Tree Regressor displayed superior performance with the lowest RMSE (779.2) and MSE (607245.0) values among the three models - Linear Regression, Decision Tree Regressor, and Random Forest Regressor - based on the examined metrics. As a result, the Decision Tree Regressor is found to be the best model for this particular dataset. Additionally, scatter plots were produced as visual representations, which clearly show how well the models performed by contrasting real and anticipated values.\n",
    "\n",
    "\n",
    "\n",
    "The Decision Tree Regressor, in the end, proved to be the most accurate model for our dataset. Even if each model has advantages and disadvantages, the Decision Tree's higher performance highlights how flexible and reliable it is for this particular use case. The effectiveness of machine learning in healthcare analytics is highlighted by this investigation. Healthcare personnel may more accurately predict patient intake, optimize resource allocation, and potentially even improve patient outcomes with a strong model in hand.\n",
    "\n"
   ]
  },
  {
   "cell_type": "code",
   "execution_count": null,
   "id": "0862e72f",
   "metadata": {},
   "outputs": [],
   "source": []
  }
 ],
 "metadata": {
  "kernelspec": {
   "display_name": "Python 3 (ipykernel)",
   "language": "python",
   "name": "python3"
  },
  "language_info": {
   "codemirror_mode": {
    "name": "ipython",
    "version": 3
   },
   "file_extension": ".py",
   "mimetype": "text/x-python",
   "name": "python",
   "nbconvert_exporter": "python",
   "pygments_lexer": "ipython3",
   "version": "3.9.13"
  }
 },
 "nbformat": 4,
 "nbformat_minor": 5
}
